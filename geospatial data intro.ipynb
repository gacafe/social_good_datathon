{
 "cells": [
  {
   "cell_type": "markdown",
   "metadata": {},
   "source": [
    "## Beginners guide to Geospatial analysis \n",
    "by Gala Camacho "
   ]
  },
  {
   "cell_type": "code",
   "execution_count": null,
   "metadata": {
    "colab": {},
    "colab_type": "code",
    "id": "ule2ctfsge2s"
   },
   "outputs": [],
   "source": [
    "import requests, zipfile, io\n",
    "import geopandas as gpd\n",
    "\n",
    "%matplotlib inline"
   ]
  },
  {
   "cell_type": "markdown",
   "metadata": {
    "colab_type": "text",
    "id": "vs7wV0SOge21"
   },
   "source": [
    "Read a file from a url\n",
    "\n",
    "we grab it from here https://www.abs.gov.au/AUSSTATS/abs@.nsf/DetailsPage/1270.0.55.003July%202018?OpenDocument"
   ]
  },
  {
   "cell_type": "code",
   "execution_count": null,
   "metadata": {
    "colab": {},
    "colab_type": "code",
    "id": "O305KpFrge23"
   },
   "outputs": [],
   "source": [
    "zip_url = \"https://www.abs.gov.au/ausstats/Subscriber.nsf/log?openagent&1270055003_lga_2018_aust_shape.zip&1270.0.55.003&Data%20Cubes&FCDD3670BE71AA90CA258339000D8477&0&July%202018&05.11.2018&Previous\"\n",
    "\n",
    "r = requests.get(zip_url)\n",
    "z = zipfile.ZipFile(io.BytesIO(r.content))\n",
    "z.extractall(\".\")"
   ]
  },
  {
   "cell_type": "code",
   "execution_count": null,
   "metadata": {
    "colab": {},
    "colab_type": "code",
    "id": "JdZAbLVgge28"
   },
   "outputs": [],
   "source": [
    "lgas = gpd.read_file(\"LGA_2018_AUST.shp\")"
   ]
  },
  {
   "cell_type": "code",
   "execution_count": null,
   "metadata": {
    "colab": {},
    "colab_type": "code",
    "id": "aJKwDgAcge3B"
   },
   "outputs": [],
   "source": [
    "lgas.sample(5)"
   ]
  },
  {
   "cell_type": "code",
   "execution_count": null,
   "metadata": {
    "colab": {},
    "colab_type": "code",
    "id": "3qgm26NHge3F"
   },
   "outputs": [],
   "source": [
    "# clean up ghost lgas\n",
    "lgas = lgas.loc[~lgas['geometry'].isna()]"
   ]
  },
  {
   "cell_type": "code",
   "execution_count": null,
   "metadata": {
    "colab": {},
    "colab_type": "code",
    "id": "zA1k8GAOge3I"
   },
   "outputs": [],
   "source": [
    "# see individual shape\n",
    "lgas.loc[0]['geometry']"
   ]
  },
  {
   "cell_type": "markdown",
   "metadata": {
    "colab_type": "text",
    "id": "kwrJKXyXge3O"
   },
   "source": [
    "You can have a simple look at your data using matplotlib"
   ]
  },
  {
   "cell_type": "code",
   "execution_count": null,
   "metadata": {
    "colab": {},
    "colab_type": "code",
    "id": "BiTW2H9Pge3P"
   },
   "outputs": [],
   "source": [
    "lgas.plot()"
   ]
  },
  {
   "cell_type": "code",
   "execution_count": null,
   "metadata": {
    "colab": {},
    "colab_type": "code",
    "id": "2_12MQ38ge3S"
   },
   "outputs": [],
   "source": [
    "# find the centroid of your polygons\n",
    "lgas_centroid = lgas.centroid\n",
    "\n",
    "# find the centroid of your polygons\n",
    "lgas_centroid[0]"
   ]
  },
  {
   "cell_type": "code",
   "execution_count": null,
   "metadata": {
    "colab": {},
    "colab_type": "code",
    "id": "oNE9Y2fUge3W"
   },
   "outputs": [],
   "source": [
    "lgas_centroid.plot()"
   ]
  },
  {
   "cell_type": "markdown",
   "metadata": {
    "colab_type": "text",
    "id": "-P7WXkXnge3a"
   },
   "source": [
    "Knowing the CRS of your geospatial file is important. \n",
    "Mostly when mixing files, you want to make sure that all your files are always in the same crs"
   ]
  },
  {
   "cell_type": "code",
   "execution_count": null,
   "metadata": {
    "colab": {},
    "colab_type": "code",
    "id": "qWIdw_fuge3b"
   },
   "outputs": [],
   "source": [
    "lgas.crs\n",
    "# https://epsg.io/4283"
   ]
  },
  {
   "cell_type": "markdown",
   "metadata": {
    "colab_type": "text",
    "id": "JskOVXCJge3e"
   },
   "source": [
    "The crs it is in, has units of degrees, \n",
    "\n",
    "we might want one that has units of meteres and that is targetted for Australia, \n",
    "\n",
    "so let change our crs. \n",
    "https://epsg.io/28355"
   ]
  },
  {
   "cell_type": "code",
   "execution_count": null,
   "metadata": {
    "colab": {},
    "colab_type": "code",
    "id": "cAp-SeeXge3f"
   },
   "outputs": [],
   "source": [
    "lgas_flat = lgas.to_crs(epsg=28355)\n",
    "\n",
    "#notice how your map changes!\n",
    "lgas_flat.plot()"
   ]
  },
  {
   "cell_type": "markdown",
   "metadata": {
    "colab_type": "text",
    "id": "EL03EmfYge3h"
   },
   "source": [
    "Imagine I am interested in knowing what is around some place.\n",
    "\n",
    "If only addresses are provided, you can geocode the addresses.\n",
    "\n",
    "You can then create \"search polygons\" based on the centre point and a radius.\n"
   ]
  },
  {
   "cell_type": "code",
   "execution_count": null,
   "metadata": {
    "colab": {},
    "colab_type": "code",
    "id": "tvleYX_nge3j"
   },
   "outputs": [],
   "source": [
    "points_of_interest = [{'location':'Our Community House',\n",
    "                       'radius_of_interest':5000,\n",
    "                       'address':'552 Victoria St, North Melbourne VIC 3051'},\n",
    "                      {'location':'Marise Payne',\n",
    "                       'radius_of_interest':7000,\n",
    "                       'address':'2/12 Macquarie St, Parramatta NSW 2150'}]"
   ]
  },
  {
   "cell_type": "code",
   "execution_count": null,
   "metadata": {
    "colab": {},
    "colab_type": "code",
    "id": "8fW723fOge3m"
   },
   "outputs": [],
   "source": [
    "# You can do this directly with GeoPandas (but it tends to time out)\n",
    "\n",
    "# pois = gpd.GeoDataFrame(points_of_interest)\n",
    "# pois['geometry'] = gpd.tools.geocode(pois['address'])"
   ]
  },
  {
   "cell_type": "code",
   "execution_count": null,
   "metadata": {
    "colab": {},
    "colab_type": "code",
    "id": "KIGVBNyfge3q"
   },
   "outputs": [],
   "source": [
    "# OR you can do this independently with geopy and OSM Nominatim (tends to work much better)\n",
    "\n",
    "from geopy.geocoders import Nominatim\n",
    "geolocator = Nominatim(user_agent=\"Data for Good Datathon\")\n",
    "\n",
    "from shapely.geometry import Point\n",
    "\n",
    "for poi in points_of_interest:\n",
    "    location = geolocator.geocode(poi['address'])\n",
    "    poi['latitude'] = location.latitude\n",
    "    poi['longitude'] = location.longitude\n",
    "    # make it into a point gpd will be able to understand Point(x,y) ie Point(longitude,latitude)\n",
    "    poi['geometry'] = Point(poi['longitude'],poi['latitude'])\n",
    "\n",
    "# if you construct a geodataframe already with a geometry, it will find it. \n",
    "pois = gpd.GeoDataFrame(points_of_interest)"
   ]
  },
  {
   "cell_type": "code",
   "execution_count": null,
   "metadata": {
    "colab": {},
    "colab_type": "code",
    "id": "XXh1AOWoge3t"
   },
   "outputs": [],
   "source": [
    "# don't forget the crs\n",
    "# you have made your data from lat lons so \n",
    "pois.crs = {'init':'epsg:4283'}\n",
    "pois.plot()"
   ]
  },
  {
   "cell_type": "code",
   "execution_count": null,
   "metadata": {
    "colab": {},
    "colab_type": "code",
    "id": "L22NQjALge3x"
   },
   "outputs": [],
   "source": [
    "# to create your polygons around the point\n",
    "# remember, you want to use meteres, so you must change crs\n",
    "pois_flat = pois.to_crs(epsg=28355)\n",
    "pois_flat['area_of_interest'] = pois_flat.buffer(pois['radius_of_interest'])\n",
    "pois_flat"
   ]
  },
  {
   "cell_type": "code",
   "execution_count": null,
   "metadata": {
    "colab": {},
    "colab_type": "code",
    "id": "ISmlNuQvge31"
   },
   "outputs": [],
   "source": [
    "pois_flat.loc[0]['area_of_interest']"
   ]
  },
  {
   "cell_type": "code",
   "execution_count": null,
   "metadata": {
    "colab": {},
    "colab_type": "code",
    "id": "ntskS48wge34"
   },
   "outputs": [],
   "source": [
    "# if you wanted to make area_of_interest plottable with matplotlib \n",
    "# you need to make it into a string of 'well known text' ie wkt\n",
    "# sadly once you do that it will no longer be a point object, which is annoying\n",
    "\n",
    "# pois_flat['area_of_interest'] = pois_flat['area_of_interest'].apply(lambda x: x.wkt).values\n",
    "# pois_flat.plot(column='area_of_interest')"
   ]
  },
  {
   "cell_type": "code",
   "execution_count": null,
   "metadata": {
    "colab": {},
    "colab_type": "code",
    "id": "W6YrlxToge36"
   },
   "outputs": [],
   "source": [
    "aois_flat = gpd.GeoDataFrame(pois_flat[['area_of_interest']],geometry='area_of_interest')\n",
    "aois_flat.crs = {'init':'epsg:28355'}"
   ]
  },
  {
   "cell_type": "code",
   "execution_count": null,
   "metadata": {
    "colab": {},
    "colab_type": "code",
    "id": "zpmV3Ajage39"
   },
   "outputs": [],
   "source": [
    "aois = aois_flat.to_crs(epsg=4283)"
   ]
  },
  {
   "cell_type": "markdown",
   "metadata": {
    "colab_type": "text",
    "id": "IjxGVSytge4A"
   },
   "source": [
    "Find all LGA centroids in an area of interest\n",
    "\n",
    "Then find all LGAS that intersect with the area of interest"
   ]
  },
  {
   "cell_type": "code",
   "execution_count": null,
   "metadata": {
    "colab": {},
    "colab_type": "code",
    "id": "DcHWzedZge4B"
   },
   "outputs": [],
   "source": [
    "aoi = aois.loc[0]\n",
    "\n",
    "lgas_centroid.loc[lgas_centroid.within(aoi['area_of_interest'])].plot()"
   ]
  },
  {
   "cell_type": "code",
   "execution_count": null,
   "metadata": {
    "colab": {},
    "colab_type": "code",
    "id": "2a5F2XPpge4D"
   },
   "outputs": [],
   "source": [
    "lgas.loc[lgas.intersects(aoi['area_of_interest'])].plot()"
   ]
  },
  {
   "cell_type": "code",
   "execution_count": null,
   "metadata": {
    "colab": {},
    "colab_type": "code",
    "id": "SpKvETQMge4G"
   },
   "outputs": [],
   "source": [
    "# if you want to see both in the map\n",
    "base = lgas.loc[lgas.intersects(aoi['area_of_interest'])].plot(color='blue', edgecolor='black')\n",
    "aois.head(1).plot(ax=base,alpha=0.5, edgecolor='white')\n",
    "\n",
    "# note that we refer back to aois in order to use matplotlib plotting"
   ]
  },
  {
   "cell_type": "markdown",
   "metadata": {
    "colab_type": "text",
    "id": "AomUjzuKge4I"
   },
   "source": [
    "maybe you now want to measure the distance from you poi to the centroids"
   ]
  },
  {
   "cell_type": "code",
   "execution_count": null,
   "metadata": {
    "colab": {},
    "colab_type": "code",
    "id": "yT5Kz_S6ge4J"
   },
   "outputs": [],
   "source": [
    "centroids_within_aoi = lgas_centroid.loc[lgas_centroid.within(aoi['area_of_interest'])]\n",
    "\n",
    "centroids_within_aoi_flat = centroids_within_aoi.to_crs(epsg=28355)\n",
    "poi_flat = pois_flat.loc[0]\n",
    "\n",
    "centroids_within_aoi_flat['distance_to_poi'] = centroids_within_aoi_flat.distance(poi_flat['geometry'])\n",
    "# "
   ]
  },
  {
   "cell_type": "code",
   "execution_count": null,
   "metadata": {
    "colab": {},
    "colab_type": "code",
    "id": "4FGN6XDvge4M"
   },
   "outputs": [],
   "source": [
    "centroids_within_aoi_flat['distance_to_poi']"
   ]
  },
  {
   "cell_type": "markdown",
   "metadata": {
    "colab_type": "text",
    "id": "tD7oXJXxge4O"
   },
   "source": [
    "you can also do this directly using geopy and the lat,lon's\n",
    "\n",
    "https://pypi.org/project/geopy/\n"
   ]
  },
  {
   "cell_type": "markdown",
   "metadata": {
    "colab_type": "text",
    "id": "fKg7mpBpge4P"
   },
   "source": [
    "if you want to get more fancy with your visualisations you can look into \n",
    "\n",
    "Mapbox (for nice interactive basemaps)\n",
    "\n",
    "Plotly\n",
    "\n",
    "Carto\n",
    "\n",
    "Bokeh"
   ]
  },
  {
   "cell_type": "code",
   "execution_count": null,
   "metadata": {
    "colab": {},
    "colab_type": "code",
    "id": "5Jsqs1m-ge4R"
   },
   "outputs": [],
   "source": [
    "# for an interactive map, try plotly below\n",
    "# but be careful with plotting too many polygons at once, it takes a lot of memory and power!\n",
    "\n",
    "import plotly.express as px\n",
    "from plotly.offline import plot \n",
    "# \n",
    "temp = lgas.loc[lgas.intersects(aoi['area_of_interest'])]\n",
    "poi = pois.loc[0]\n",
    "\n",
    "fig = px.choropleth_mapbox(temp[[\"LGA_CODE18\"]], geojson=temp.__geo_interface__,\n",
    "                           locations=\"LGA_CODE18\",\n",
    "                           featureidkey=\"properties.LGA_CODE18\",\n",
    "                           color=\"LGA_CODE18\",\n",
    "                           mapbox_style=\"carto-positron\",\n",
    "                           zoom=9,\n",
    "                           center={'lat':poi['latitude'], 'lon':poi['longitude']}\n",
    "                          )\n",
    "\n",
    "\n",
    "plot(fig)"
   ]
  },
  {
   "cell_type": "code",
   "execution_count": null,
   "metadata": {
    "colab": {},
    "colab_type": "code",
    "id": "gVc_M-kXge4X"
   },
   "outputs": [],
   "source": []
  }
 ],
 "metadata": {
  "colab": {
   "name": "geospatial data intro.ipynb",
   "provenance": []
  },
  "kernelspec": {
   "display_name": "Python 3",
   "language": "python",
   "name": "python3"
  },
  "language_info": {
   "codemirror_mode": {
    "name": "ipython",
    "version": 3
   },
   "file_extension": ".py",
   "mimetype": "text/x-python",
   "name": "python",
   "nbconvert_exporter": "python",
   "pygments_lexer": "ipython3",
   "version": "3.6.3"
  }
 },
 "nbformat": 4,
 "nbformat_minor": 2
}
